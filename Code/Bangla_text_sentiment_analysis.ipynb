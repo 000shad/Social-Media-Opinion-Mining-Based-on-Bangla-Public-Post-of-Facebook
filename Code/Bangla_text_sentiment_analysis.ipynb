{
  "nbformat": 4,
  "nbformat_minor": 0,
  "metadata": {
    "colab": {
      "name": "1. Bangla text sentiment.ipynb",
      "provenance": []
    },
    "kernelspec": {
      "name": "python3",
      "display_name": "Python 3"
    },
    "language_info": {
      "name": "python"
    }
  },
  "cells": [
    {
      "cell_type": "markdown",
      "metadata": {
        "id": "TdaYVZP5PHtZ"
      },
      "source": [
        "Libraries"
      ]
    },
    {
      "cell_type": "code",
      "metadata": {
        "colab": {
          "base_uri": "https://localhost:8080/"
        },
        "id": "2W9I0BNDr9ni",
        "outputId": "d53e1ca1-d972-431c-c995-69a2db6d60d9"
      },
      "source": [
        "from google.colab import drive\n",
        "drive.mount('/content/drive')"
      ],
      "execution_count": 1,
      "outputs": [
        {
          "output_type": "stream",
          "name": "stdout",
          "text": [
            "Mounted at /content/drive\n"
          ]
        }
      ]
    },
    {
      "cell_type": "code",
      "metadata": {
        "id": "IoAYGxTTsQ3X",
        "colab": {
          "base_uri": "https://localhost:8080/"
        },
        "outputId": "071bbc2f-d535-4e86-9755-65c04982a05b"
      },
      "source": [
        "!pip install wordcloud bnlp_toolkit"
      ],
      "execution_count": 2,
      "outputs": [
        {
          "output_type": "stream",
          "name": "stdout",
          "text": [
            "Requirement already satisfied: wordcloud in /usr/local/lib/python3.7/dist-packages (1.5.0)\n",
            "Collecting bnlp_toolkit\n",
            "  Downloading bnlp_toolkit-3.1.2-py3-none-any.whl (17 kB)\n",
            "Requirement already satisfied: numpy>=1.6.1 in /usr/local/lib/python3.7/dist-packages (from wordcloud) (1.19.5)\n",
            "Requirement already satisfied: pillow in /usr/local/lib/python3.7/dist-packages (from wordcloud) (7.1.2)\n",
            "Collecting gensim==4.0.1\n",
            "  Downloading gensim-4.0.1-cp37-cp37m-manylinux1_x86_64.whl (23.9 MB)\n",
            "\u001b[K     |████████████████████████████████| 23.9 MB 102 kB/s \n",
            "\u001b[?25hCollecting sklearn-crfsuite\n",
            "  Downloading sklearn_crfsuite-0.3.6-py2.py3-none-any.whl (12 kB)\n",
            "Requirement already satisfied: nltk in /usr/local/lib/python3.7/dist-packages (from bnlp_toolkit) (3.2.5)\n",
            "Requirement already satisfied: scipy in /usr/local/lib/python3.7/dist-packages (from bnlp_toolkit) (1.4.1)\n",
            "Requirement already satisfied: wasabi in /usr/local/lib/python3.7/dist-packages (from bnlp_toolkit) (0.8.2)\n",
            "Collecting sentencepiece\n",
            "  Downloading sentencepiece-0.1.96-cp37-cp37m-manylinux_2_17_x86_64.manylinux2014_x86_64.whl (1.2 MB)\n",
            "\u001b[K     |████████████████████████████████| 1.2 MB 53.8 MB/s \n",
            "\u001b[?25hRequirement already satisfied: smart-open>=1.8.1 in /usr/local/lib/python3.7/dist-packages (from gensim==4.0.1->bnlp_toolkit) (5.2.1)\n",
            "Requirement already satisfied: six in /usr/local/lib/python3.7/dist-packages (from nltk->bnlp_toolkit) (1.15.0)\n",
            "Requirement already satisfied: tqdm>=2.0 in /usr/local/lib/python3.7/dist-packages (from sklearn-crfsuite->bnlp_toolkit) (4.62.2)\n",
            "Collecting python-crfsuite>=0.8.3\n",
            "  Downloading python_crfsuite-0.9.7-cp37-cp37m-manylinux1_x86_64.whl (743 kB)\n",
            "\u001b[K     |████████████████████████████████| 743 kB 84.5 MB/s \n",
            "\u001b[?25hRequirement already satisfied: tabulate in /usr/local/lib/python3.7/dist-packages (from sklearn-crfsuite->bnlp_toolkit) (0.8.9)\n",
            "Installing collected packages: python-crfsuite, sklearn-crfsuite, sentencepiece, gensim, bnlp-toolkit\n",
            "  Attempting uninstall: gensim\n",
            "    Found existing installation: gensim 3.6.0\n",
            "    Uninstalling gensim-3.6.0:\n",
            "      Successfully uninstalled gensim-3.6.0\n",
            "Successfully installed bnlp-toolkit-3.1.2 gensim-4.0.1 python-crfsuite-0.9.7 sentencepiece-0.1.96 sklearn-crfsuite-0.3.6\n"
          ]
        }
      ]
    },
    {
      "cell_type": "code",
      "metadata": {
        "colab": {
          "base_uri": "https://localhost:8080/"
        },
        "id": "Ihjy6MU-shiI",
        "outputId": "22a659cc-16db-41d8-e072-3c777f8679c5"
      },
      "source": [
        "from bnlp.corpus import stopwords, punctuations"
      ],
      "execution_count": 3,
      "outputs": [
        {
          "output_type": "stream",
          "name": "stdout",
          "text": [
            "punkt not found. downloading...\n",
            "[nltk_data] Downloading package punkt to /root/nltk_data...\n",
            "[nltk_data]   Unzipping tokenizers/punkt.zip.\n"
          ]
        },
        {
          "output_type": "stream",
          "name": "stderr",
          "text": [
            "/usr/local/lib/python3.7/dist-packages/gensim/similarities/__init__.py:15: UserWarning: The gensim.similarities.levenshtein submodule is disabled, because the optional Levenshtein package <https://pypi.org/project/python-Levenshtein/> is unavailable. Install Levenhstein (e.g. `pip install python-Levenshtein`) to suppress this warning.\n",
            "  warnings.warn(msg)\n"
          ]
        }
      ]
    },
    {
      "cell_type": "code",
      "metadata": {
        "id": "hugblip0so4Q",
        "colab": {
          "base_uri": "https://localhost:8080/"
        },
        "outputId": "eb645c1a-26f0-4499-9c47-2fb5d8ea2357"
      },
      "source": [
        "stopwords"
      ],
      "execution_count": 4,
      "outputs": [
        {
          "output_type": "execute_result",
          "data": {
            "text/plain": [
              "['অতএব',\n",
              " 'অথচ',\n",
              " 'অথবা',\n",
              " 'অনুযায়ী',\n",
              " 'অনেক',\n",
              " 'অনেকে',\n",
              " 'অনেকেই',\n",
              " 'অন্তত',\n",
              " 'অন্য',\n",
              " 'অবধি',\n",
              " 'অবশ্য',\n",
              " 'অর্থাত',\n",
              " 'আই',\n",
              " 'আগামী',\n",
              " 'আগে',\n",
              " 'আগেই',\n",
              " 'আছে',\n",
              " 'আজ',\n",
              " 'আদ্যভাগে',\n",
              " 'আপনার',\n",
              " 'আপনি',\n",
              " 'আবার',\n",
              " 'আমরা',\n",
              " 'আমাকে',\n",
              " 'আমাদের',\n",
              " 'আমার',\n",
              " 'আমি',\n",
              " 'আর',\n",
              " 'আরও',\n",
              " 'ই',\n",
              " 'ইত্যাদি',\n",
              " 'ইহা',\n",
              " 'উচিত',\n",
              " 'উত্তর',\n",
              " 'উনি',\n",
              " 'উপর',\n",
              " 'উপরে',\n",
              " 'এ',\n",
              " 'এঁদের',\n",
              " 'এঁরা',\n",
              " 'এই',\n",
              " 'একই',\n",
              " 'একটি',\n",
              " 'একবার',\n",
              " 'একে',\n",
              " 'এক্',\n",
              " 'এখন',\n",
              " 'এখনও',\n",
              " 'এখানে',\n",
              " 'এখানেই',\n",
              " 'এটা',\n",
              " 'এটাই',\n",
              " 'এটি',\n",
              " 'এত',\n",
              " 'এতটাই',\n",
              " 'এতে',\n",
              " 'এদের',\n",
              " 'এব',\n",
              " 'এবং',\n",
              " 'এবার',\n",
              " 'এমন',\n",
              " 'এমনকী',\n",
              " 'এমনি',\n",
              " 'এর',\n",
              " 'এরা',\n",
              " 'এল',\n",
              " 'এস',\n",
              " 'এসে',\n",
              " 'ঐ',\n",
              " 'ও',\n",
              " 'ওঁদের',\n",
              " 'ওঁর',\n",
              " 'ওঁরা',\n",
              " 'ওই',\n",
              " 'ওকে',\n",
              " 'ওখানে',\n",
              " 'ওদের',\n",
              " 'ওর',\n",
              " 'ওরা',\n",
              " 'কখনও',\n",
              " 'কত',\n",
              " 'কবে',\n",
              " 'কমনে',\n",
              " 'কয়েক',\n",
              " 'কয়েকটি',\n",
              " 'করছে',\n",
              " 'করছেন',\n",
              " 'করতে',\n",
              " 'করবে',\n",
              " 'করবেন',\n",
              " 'করলে',\n",
              " 'করলেন',\n",
              " 'করা',\n",
              " 'করাই',\n",
              " 'করায়',\n",
              " 'করার',\n",
              " 'করি',\n",
              " 'করিতে',\n",
              " 'করিয়া',\n",
              " 'করিয়ে',\n",
              " 'করে',\n",
              " 'করেই',\n",
              " 'করেছিলেন',\n",
              " 'করেছে',\n",
              " 'করেছেন',\n",
              " 'করেন',\n",
              " 'কাউকে',\n",
              " 'কাছ',\n",
              " 'কাছে',\n",
              " 'কাজ',\n",
              " 'কাজে',\n",
              " 'কারও',\n",
              " 'কারণ',\n",
              " 'কি',\n",
              " 'কিংবা',\n",
              " 'কিছু',\n",
              " 'কিছুই',\n",
              " 'কিন্তু',\n",
              " 'কী',\n",
              " 'কে',\n",
              " 'কেউ',\n",
              " 'কেউই',\n",
              " 'কেখা',\n",
              " 'কেন',\n",
              " 'কোটি',\n",
              " 'কোন',\n",
              " 'কোনও',\n",
              " 'কোনো',\n",
              " 'ক্ষেত্রে',\n",
              " 'কয়েক',\n",
              " 'খুব',\n",
              " 'গিয়ে',\n",
              " 'গিয়েছে',\n",
              " 'গিয়ে',\n",
              " 'গুলি',\n",
              " 'গেছে',\n",
              " 'গেল',\n",
              " 'গেলে',\n",
              " 'গোটা',\n",
              " 'চলে',\n",
              " 'চান',\n",
              " 'চায়',\n",
              " 'চার',\n",
              " 'চালু',\n",
              " 'চেয়ে',\n",
              " 'চেষ্টা',\n",
              " 'ছাড়া',\n",
              " 'ছাড়াও',\n",
              " 'ছিল',\n",
              " 'ছিলেন',\n",
              " 'জন',\n",
              " 'জনকে',\n",
              " 'জনের',\n",
              " 'জন্য',\n",
              " 'জন্যওজে',\n",
              " 'জানতে',\n",
              " 'জানা',\n",
              " 'জানানো',\n",
              " 'জানায়',\n",
              " 'জানিয়ে',\n",
              " 'জানিয়েছে',\n",
              " 'জে',\n",
              " 'জ্নজন',\n",
              " 'টি',\n",
              " 'ঠিক',\n",
              " 'তখন',\n",
              " 'তত',\n",
              " 'তথা',\n",
              " 'তবু',\n",
              " 'তবে',\n",
              " 'তা',\n",
              " 'তাঁকে',\n",
              " 'তাঁদের',\n",
              " 'তাঁর',\n",
              " 'তাঁরা',\n",
              " 'তাঁাহারা',\n",
              " 'তাই',\n",
              " 'তাও',\n",
              " 'তাকে',\n",
              " 'তাতে',\n",
              " 'তাদের',\n",
              " 'তার',\n",
              " 'তারপর',\n",
              " 'তারা',\n",
              " 'তারৈ',\n",
              " 'তাহলে',\n",
              " 'তাহা',\n",
              " 'তাহাতে',\n",
              " 'তাহার',\n",
              " 'তিনঐ',\n",
              " 'তিনি',\n",
              " 'তিনিও',\n",
              " 'তুমি',\n",
              " 'তুলে',\n",
              " 'তেমন',\n",
              " 'তো',\n",
              " 'তোমার',\n",
              " 'থাকবে',\n",
              " 'থাকবেন',\n",
              " 'থাকা',\n",
              " 'থাকায়',\n",
              " 'থাকে',\n",
              " 'থাকেন',\n",
              " 'থেকে',\n",
              " 'থেকেই',\n",
              " 'থেকেও',\n",
              " 'দিকে',\n",
              " 'দিতে',\n",
              " 'দিন',\n",
              " 'দিয়ে',\n",
              " 'দিয়েছে',\n",
              " 'দিয়েছেন',\n",
              " 'দিলেন',\n",
              " 'দু',\n",
              " 'দুই',\n",
              " 'দুটি',\n",
              " 'দুটো',\n",
              " 'দেওয়া',\n",
              " 'দেওয়ার',\n",
              " 'দেওয়া',\n",
              " 'দেখতে',\n",
              " 'দেখা',\n",
              " 'দেখে',\n",
              " 'দেন',\n",
              " 'দেয়',\n",
              " 'দ্বারা',\n",
              " 'ধরা',\n",
              " 'ধরে',\n",
              " 'ধামার',\n",
              " 'নতুন',\n",
              " 'নয়',\n",
              " 'না',\n",
              " 'নাই',\n",
              " 'নাকি',\n",
              " 'নাগাদ',\n",
              " 'নানা',\n",
              " 'নিজে',\n",
              " 'নিজেই',\n",
              " 'নিজেদের',\n",
              " 'নিজের',\n",
              " 'নিতে',\n",
              " 'নিয়ে',\n",
              " 'নিয়ে',\n",
              " 'নেই',\n",
              " 'নেওয়া',\n",
              " 'নেওয়ার',\n",
              " 'নেওয়া',\n",
              " 'নয়',\n",
              " 'পক্ষে',\n",
              " 'পর',\n",
              " 'পরে',\n",
              " 'পরেই',\n",
              " 'পরেও',\n",
              " 'পর্যন্ত',\n",
              " 'পাওয়া',\n",
              " 'পাচ',\n",
              " 'পারি',\n",
              " 'পারে',\n",
              " 'পারেন',\n",
              " 'পি',\n",
              " 'পেয়ে',\n",
              " 'পেয়্র্',\n",
              " 'প্রতি',\n",
              " 'প্রথম',\n",
              " 'প্রভৃতি',\n",
              " 'প্রযন্ত',\n",
              " 'প্রাথমিক',\n",
              " 'প্রায়',\n",
              " 'প্রায়',\n",
              " 'ফলে',\n",
              " 'ফিরে',\n",
              " 'ফের',\n",
              " 'বক্তব্য',\n",
              " 'বদলে',\n",
              " 'বন',\n",
              " 'বরং',\n",
              " 'বলতে',\n",
              " 'বলল',\n",
              " 'বললেন',\n",
              " 'বলা',\n",
              " 'বলে',\n",
              " 'বলেছেন',\n",
              " 'বলেন',\n",
              " 'বসে',\n",
              " 'বহু',\n",
              " 'বা',\n",
              " 'বাদে',\n",
              " 'বার',\n",
              " 'বি',\n",
              " 'বিনা',\n",
              " 'বিভিন্ন',\n",
              " 'বিশেষ',\n",
              " 'বিষয়টি',\n",
              " 'বেশ',\n",
              " 'বেশি',\n",
              " 'ব্যবহার',\n",
              " 'ব্যাপারে',\n",
              " 'ভাবে',\n",
              " 'ভাবেই',\n",
              " 'মতো',\n",
              " 'মতোই',\n",
              " 'মধ্যভাগে',\n",
              " 'মধ্যে',\n",
              " 'মধ্যেই',\n",
              " 'মধ্যেও',\n",
              " 'মনে',\n",
              " 'মাত্র',\n",
              " 'মাধ্যমে',\n",
              " 'মোট',\n",
              " 'মোটেই',\n",
              " 'যখন',\n",
              " 'যত',\n",
              " 'যতটা',\n",
              " 'যথেষ্ট',\n",
              " 'যদি',\n",
              " 'যদিও',\n",
              " 'যা',\n",
              " 'যাঁর',\n",
              " 'যাঁরা',\n",
              " 'যাওয়া',\n",
              " 'যাওয়ার',\n",
              " 'যাওয়া',\n",
              " 'যাকে',\n",
              " 'যাচ্ছে',\n",
              " 'যাতে',\n",
              " 'যাদের',\n",
              " 'যান',\n",
              " 'যাবে',\n",
              " 'যায়',\n",
              " 'যার',\n",
              " 'যারা',\n",
              " 'যিনি',\n",
              " 'যে',\n",
              " 'যেখানে',\n",
              " 'যেতে',\n",
              " 'যেন',\n",
              " 'যেমন',\n",
              " 'র',\n",
              " 'রকম',\n",
              " 'রয়েছে',\n",
              " 'রাখা',\n",
              " 'রেখে',\n",
              " 'লক্ষ',\n",
              " 'শুধু',\n",
              " 'শুরু',\n",
              " 'সঙ্গে',\n",
              " 'সঙ্গেও',\n",
              " 'সব',\n",
              " 'সবার',\n",
              " 'সমস্ত',\n",
              " 'সম্প্রতি',\n",
              " 'সহ',\n",
              " 'সহিত',\n",
              " 'সাধারণ',\n",
              " 'সামনে',\n",
              " 'সি',\n",
              " 'সুতরাং',\n",
              " 'সে',\n",
              " 'সেই',\n",
              " 'সেখান',\n",
              " 'সেখানে',\n",
              " 'সেটা',\n",
              " 'সেটাই',\n",
              " 'সেটাও',\n",
              " 'সেটি',\n",
              " 'স্পষ্ট',\n",
              " 'স্বয়ং',\n",
              " 'হইতে',\n",
              " 'হইবে',\n",
              " 'হইয়া',\n",
              " 'হওয়া',\n",
              " 'হওয়ায়',\n",
              " 'হওয়ার',\n",
              " 'হচ্ছে',\n",
              " 'হত',\n",
              " 'হতে',\n",
              " 'হতেই',\n",
              " 'হন',\n",
              " 'হবে',\n",
              " 'হবেন',\n",
              " 'হয়',\n",
              " 'হয়তো',\n",
              " 'হয়নি',\n",
              " 'হয়ে',\n",
              " 'হয়েই',\n",
              " 'হয়েছিল',\n",
              " 'হয়েছে',\n",
              " 'হয়েছেন',\n",
              " 'হল',\n",
              " 'হলে',\n",
              " 'হলেই',\n",
              " 'হলেও',\n",
              " 'হলো',\n",
              " 'হাজার',\n",
              " 'হিসাবে',\n",
              " 'হৈলে',\n",
              " 'হোক',\n",
              " 'হয়']"
            ]
          },
          "metadata": {},
          "execution_count": 4
        }
      ]
    },
    {
      "cell_type": "code",
      "metadata": {
        "id": "9AxDi7mPf6-n"
      },
      "source": [
        "import numpy as np\n",
        "import pandas as pd\n",
        "import matplotlib.pyplot as plt\n",
        "%matplotlib inline\n",
        "import seaborn as sns\n",
        "import re,json,nltk\n",
        "from sklearn.preprocessing import LabelEncoder\n",
        "from sklearn.feature_extraction.text import TfidfVectorizer\n",
        "from sklearn.model_selection import train_test_split\n",
        "from sklearn.metrics import classification_report,accuracy_score,precision_score,recall_score,f1_score\n",
        "from tensorflow.keras.preprocessing.text import Tokenizer\n",
        "path ='/content/drive/MyDrive/WP/' \n",
        "stopwords_list = stopwords\n",
        "class color: # Text style\n",
        "   PURPLE = '\\033[95m'\n",
        "   CYAN = '\\033[96m'\n",
        "   DARKCYAN = '\\033[36m'\n",
        "   BLUE = '\\033[94m'\n",
        "   GREEN = '\\033[92m'\n",
        "   YELLOW = '\\033[93m'\n",
        "   RED = '\\033[91m'\n",
        "   BOLD = '\\033[1m'\n",
        "   UNDERLINE = '\\033[4m'\n",
        "   END = '\\033[0m'"
      ],
      "execution_count": 5,
      "outputs": []
    },
    {
      "cell_type": "code",
      "metadata": {
        "colab": {
          "base_uri": "https://localhost:8080/",
          "height": 355
        },
        "id": "rEx5zSTPQUXx",
        "outputId": "2a8dd782-560b-4843-a128-8f4e11254726"
      },
      "source": [
        "\n",
        "data = pd.read_csv('/content/drive/MyDrive/WP/Dataset_full.csv',encoding='UTF-8')\n",
        "\n",
        "data.head(10)\n"
      ],
      "execution_count": 6,
      "outputs": [
        {
          "output_type": "execute_result",
          "data": {
            "text/html": [
              "<div>\n",
              "<style scoped>\n",
              "    .dataframe tbody tr th:only-of-type {\n",
              "        vertical-align: middle;\n",
              "    }\n",
              "\n",
              "    .dataframe tbody tr th {\n",
              "        vertical-align: top;\n",
              "    }\n",
              "\n",
              "    .dataframe thead th {\n",
              "        text-align: right;\n",
              "    }\n",
              "</style>\n",
              "<table border=\"1\" class=\"dataframe\">\n",
              "  <thead>\n",
              "    <tr style=\"text-align: right;\">\n",
              "      <th></th>\n",
              "      <th>Tag</th>\n",
              "      <th>Annotaions</th>\n",
              "      <th>Comments</th>\n",
              "      <th>ReactCount</th>\n",
              "      <th>ReplyCount</th>\n",
              "      <th>Rand</th>\n",
              "    </tr>\n",
              "  </thead>\n",
              "  <tbody>\n",
              "    <tr>\n",
              "      <th>0</th>\n",
              "      <td>Positive</td>\n",
              "      <td>2</td>\n",
              "      <td>যেদিন তাহসান ব্রোর মত প্রত্যেকটা যুবক শক্তিশাল...</td>\n",
              "      <td>6</td>\n",
              "      <td>2 replies</td>\n",
              "      <td>0.452662</td>\n",
              "    </tr>\n",
              "    <tr>\n",
              "      <th>1</th>\n",
              "      <td>Neutral</td>\n",
              "      <td>7</td>\n",
              "      <td>তারমানে সারা বাংলাদেশ সমাবেশ মিছিল হচ্ছে না, শ...</td>\n",
              "      <td>NaN</td>\n",
              "      <td>NaN</td>\n",
              "      <td>0.677841</td>\n",
              "    </tr>\n",
              "    <tr>\n",
              "      <th>2</th>\n",
              "      <td>Negative</td>\n",
              "      <td>6</td>\n",
              "      <td>পাগলায় কয়েক দিন পরির জন্য আলোচনায় নাই।</td>\n",
              "      <td>NaN</td>\n",
              "      <td>NaN</td>\n",
              "      <td>0.435739</td>\n",
              "    </tr>\n",
              "    <tr>\n",
              "      <th>3</th>\n",
              "      <td>Negative</td>\n",
              "      <td>4</td>\n",
              "      <td>ভূল স্বীকার করে আল্লাহর কাছে ক্ষমা চান।নয়তোবা ...</td>\n",
              "      <td>0</td>\n",
              "      <td>NaN</td>\n",
              "      <td>0.582012</td>\n",
              "    </tr>\n",
              "    <tr>\n",
              "      <th>4</th>\n",
              "      <td>Neutral</td>\n",
              "      <td>7</td>\n",
              "      <td>ভাইয়া কেমন বোধ করছেন!</td>\n",
              "      <td>NaN</td>\n",
              "      <td>NaN</td>\n",
              "      <td>0.647563</td>\n",
              "    </tr>\n",
              "    <tr>\n",
              "      <th>5</th>\n",
              "      <td>Negative</td>\n",
              "      <td>6</td>\n",
              "      <td>আমার বর্তমান বয়স ২৫ চলে আমি জন্মের পর যখন থেকে...</td>\n",
              "      <td>NaN</td>\n",
              "      <td>NaN</td>\n",
              "      <td>0.234219</td>\n",
              "    </tr>\n",
              "    <tr>\n",
              "      <th>6</th>\n",
              "      <td>Neutral</td>\n",
              "      <td>7</td>\n",
              "      <td>বিরিয়ানি মোবারক</td>\n",
              "      <td>1</td>\n",
              "      <td>NaN</td>\n",
              "      <td>0.823240</td>\n",
              "    </tr>\n",
              "    <tr>\n",
              "      <th>7</th>\n",
              "      <td>Neutral</td>\n",
              "      <td>7</td>\n",
              "      <td>পরি মনিকে নাকি নাছির মুখে বোতল ঢুকিয়ে দিয়েছিল,...</td>\n",
              "      <td>6</td>\n",
              "      <td>NaN</td>\n",
              "      <td>0.616096</td>\n",
              "    </tr>\n",
              "    <tr>\n",
              "      <th>8</th>\n",
              "      <td>Neutral</td>\n",
              "      <td>7</td>\n",
              "      <td>প্রচুর \"মাথা-ব্যথা\" করছিলো;</td>\n",
              "      <td>3</td>\n",
              "      <td>NaN</td>\n",
              "      <td>0.603550</td>\n",
              "    </tr>\n",
              "    <tr>\n",
              "      <th>9</th>\n",
              "      <td>Neutral</td>\n",
              "      <td>7</td>\n",
              "      <td>ন্যায়বিচার হোক সেটা আমরা সবাই চাই।কিন্তু তার আ...</td>\n",
              "      <td>5</td>\n",
              "      <td>NaN</td>\n",
              "      <td>0.195183</td>\n",
              "    </tr>\n",
              "  </tbody>\n",
              "</table>\n",
              "</div>"
            ],
            "text/plain": [
              "        Tag  Annotaions  ... ReplyCount      Rand\n",
              "0  Positive           2  ...  2 replies  0.452662\n",
              "1   Neutral           7  ...        NaN  0.677841\n",
              "2  Negative           6  ...        NaN  0.435739\n",
              "3  Negative           4  ...        NaN  0.582012\n",
              "4   Neutral           7  ...        NaN  0.647563\n",
              "5  Negative           6  ...        NaN  0.234219\n",
              "6   Neutral           7  ...        NaN  0.823240\n",
              "7   Neutral           7  ...        NaN  0.616096\n",
              "8   Neutral           7  ...        NaN  0.603550\n",
              "9   Neutral           7  ...        NaN  0.195183\n",
              "\n",
              "[10 rows x 6 columns]"
            ]
          },
          "metadata": {},
          "execution_count": 6
        }
      ]
    },
    {
      "cell_type": "markdown",
      "metadata": {
        "id": "iwFv5ofvPW_e"
      },
      "source": [
        "Dataset Preparation"
      ]
    },
    {
      "cell_type": "code",
      "metadata": {
        "id": "OpZCxVRgtVIg"
      },
      "source": [
        "data = data.drop(columns = ['ReplyCount'])\n",
        "data = data.drop(columns = ['ReactCount'])\n",
        "data = data.drop(columns = ['Rand'])"
      ],
      "execution_count": 7,
      "outputs": []
    },
    {
      "cell_type": "code",
      "metadata": {
        "colab": {
          "base_uri": "https://localhost:8080/",
          "height": 202
        },
        "id": "oQXvh0580QbF",
        "outputId": "6df2df0b-1e17-443a-d630-9359392fedf8"
      },
      "source": [
        "data.head()"
      ],
      "execution_count": 8,
      "outputs": [
        {
          "output_type": "execute_result",
          "data": {
            "text/html": [
              "<div>\n",
              "<style scoped>\n",
              "    .dataframe tbody tr th:only-of-type {\n",
              "        vertical-align: middle;\n",
              "    }\n",
              "\n",
              "    .dataframe tbody tr th {\n",
              "        vertical-align: top;\n",
              "    }\n",
              "\n",
              "    .dataframe thead th {\n",
              "        text-align: right;\n",
              "    }\n",
              "</style>\n",
              "<table border=\"1\" class=\"dataframe\">\n",
              "  <thead>\n",
              "    <tr style=\"text-align: right;\">\n",
              "      <th></th>\n",
              "      <th>Tag</th>\n",
              "      <th>Annotaions</th>\n",
              "      <th>Comments</th>\n",
              "    </tr>\n",
              "  </thead>\n",
              "  <tbody>\n",
              "    <tr>\n",
              "      <th>0</th>\n",
              "      <td>Positive</td>\n",
              "      <td>2</td>\n",
              "      <td>যেদিন তাহসান ব্রোর মত প্রত্যেকটা যুবক শক্তিশাল...</td>\n",
              "    </tr>\n",
              "    <tr>\n",
              "      <th>1</th>\n",
              "      <td>Neutral</td>\n",
              "      <td>7</td>\n",
              "      <td>তারমানে সারা বাংলাদেশ সমাবেশ মিছিল হচ্ছে না, শ...</td>\n",
              "    </tr>\n",
              "    <tr>\n",
              "      <th>2</th>\n",
              "      <td>Negative</td>\n",
              "      <td>6</td>\n",
              "      <td>পাগলায় কয়েক দিন পরির জন্য আলোচনায় নাই।</td>\n",
              "    </tr>\n",
              "    <tr>\n",
              "      <th>3</th>\n",
              "      <td>Negative</td>\n",
              "      <td>4</td>\n",
              "      <td>ভূল স্বীকার করে আল্লাহর কাছে ক্ষমা চান।নয়তোবা ...</td>\n",
              "    </tr>\n",
              "    <tr>\n",
              "      <th>4</th>\n",
              "      <td>Neutral</td>\n",
              "      <td>7</td>\n",
              "      <td>ভাইয়া কেমন বোধ করছেন!</td>\n",
              "    </tr>\n",
              "  </tbody>\n",
              "</table>\n",
              "</div>"
            ],
            "text/plain": [
              "        Tag  Annotaions                                           Comments\n",
              "0  Positive           2  যেদিন তাহসান ব্রোর মত প্রত্যেকটা যুবক শক্তিশাল...\n",
              "1   Neutral           7  তারমানে সারা বাংলাদেশ সমাবেশ মিছিল হচ্ছে না, শ...\n",
              "2  Negative           6             পাগলায় কয়েক দিন পরির জন্য আলোচনায় নাই।\n",
              "3  Negative           4  ভূল স্বীকার করে আল্লাহর কাছে ক্ষমা চান।নয়তোবা ...\n",
              "4   Neutral           7                              ভাইয়া কেমন বোধ করছেন!"
            ]
          },
          "metadata": {},
          "execution_count": 8
        }
      ]
    },
    {
      "cell_type": "code",
      "metadata": {
        "colab": {
          "base_uri": "https://localhost:8080/"
        },
        "id": "ALrNnjfUVa2I",
        "outputId": "1bb2b3f3-c46e-4607-c7a8-6fa1a57f0a39"
      },
      "source": [
        "print(\"Total comments:\",len(data),\n",
        "      \"\\nTotal Positive comments:\",len(data[data.Tag =='Positive']),\n",
        "      \"\\nTotal Negative comments:\",len(data[data.Tag=='Negative']),\n",
        "      \"\\nTotal Neutral comments:\",len(data[data.Tag =='Neutral']))\n",
        "      "
      ],
      "execution_count": 9,
      "outputs": [
        {
          "output_type": "stream",
          "name": "stdout",
          "text": [
            "Total comments: 11006 \n",
            "Total Positive comments: 1909 \n",
            "Total Negative comments: 5237 \n",
            "Total Neutral comments: 3860\n"
          ]
        }
      ]
    },
    {
      "cell_type": "code",
      "metadata": {
        "colab": {
          "base_uri": "https://localhost:8080/"
        },
        "id": "EOOEd6lwWVeb",
        "outputId": "ce34a74b-9df2-4011-89b4-739681b06d59"
      },
      "source": [
        "data.columns"
      ],
      "execution_count": 10,
      "outputs": [
        {
          "output_type": "execute_result",
          "data": {
            "text/plain": [
              "Index(['Tag', 'Annotaions', 'Comments'], dtype='object')"
            ]
          },
          "metadata": {},
          "execution_count": 10
        }
      ]
    },
    {
      "cell_type": "code",
      "metadata": {
        "colab": {
          "base_uri": "https://localhost:8080/"
        },
        "id": "Xipx67erWVbw",
        "outputId": "8c69f669-5258-4379-adca-810f2e3490f8"
      },
      "source": [
        "\n",
        "# print some unprocessed reviews\n",
        "sample_data = [10,1000,1500,2000,2500,6000,6500,8000,9001,10000,11000]\n",
        "for i in sample_data:\n",
        "      print(data.Comments[i],'\\n','Sentiment:-- ',data.Tag[i],'\\n')"
      ],
      "execution_count": 11,
      "outputs": [
        {
          "output_type": "stream",
          "name": "stdout",
          "text": [
            "চেয়ার কিনেছি অনলি ফর ইউ! \n",
            " Sentiment:--  Negative \n",
            "\n",
            "নোবেলা আপু \n",
            " Sentiment:--  Negative \n",
            "\n",
            "অতঃপর আমি শেষের শব্দ বুঝতে না পেরে, ইহা কপি করে গুগল-এ গিয়ে বুঝার চেষ্টা করলাম, তারাও ব্যর্থ উচ্চারণ করতে কি ছিলো ব্র \n",
            " Sentiment:--  Neutral \n",
            "\n",
            "দর্শকপ্রিয়!? \n",
            " Sentiment:--  Negative \n",
            "\n",
            "পাগল সালারা কোন সালার বাচ্ছ করে এই গুলা \n",
            " Sentiment:--  Negative \n",
            "\n",
            "ভাই প্রথম দুই লাইন বলতে ভয় পায় লোকে। সেই রাগ নিচের লাইনে মিটায় \n",
            " Sentiment:--  Neutral \n",
            "\n",
            "যারা কমেন্ট করছেন বা করবেন দয়া করে বানান ঠিক রাখুন! উত্তেজিত অবস্থায় দ্রুত কমেন্ট করতে গিয়ে বানান ভুল করবেন নাহ।আমরা যারা কমেন্ট পড়তে আসি,আমাদের পড়তে বেশ অসুবিধা হয়।তাছাড়া যারা গালাগালি করবেন সিরিয়াল অনুসারে করুন। অতিরিক্ত হুড়োহুড়িতে প্যাচ বা বিষম খেতে… \n",
            " Sentiment:--  Neutral \n",
            "\n",
            "ভারতীয় ক্রিকেট কে অনেক কিছুই দিয়েছে। দিতে পারতো আরো অনেক কিছু। ঠান্ডামাথার নির্ভরযোগ্য ক্রিকেটার হিসেবে প্রিয় ছিলো। ভাল থাকুক লিজেন্ড। \n",
            " Sentiment:--  Positive \n",
            "\n",
            "দুই পাহাড়ের মধ্যখানের খালি অংশের বাজটা একটু বেশিই দেখা যায় \n",
            " Sentiment:--  Negative \n",
            "\n",
            "আজ কেমন বোধ করছেন।। \n",
            " Sentiment:--  Positive \n",
            "\n",
            "হারানো পদ ফিরে পাওয়ার ধান্দা । আমলাদের তেল মারে আপনাদের নেত্রী হাসিনা। আর কিছু বললাম না \n",
            " Sentiment:--  Negative \n",
            "\n"
          ]
        }
      ]
    },
    {
      "cell_type": "code",
      "metadata": {
        "colab": {
          "base_uri": "https://localhost:8080/",
          "height": 272
        },
        "id": "DaO_MG9xBFjs",
        "outputId": "fb7f8388-c1b7-4f90-86aa-9fc0fa70c300"
      },
      "source": [
        "\n",
        "sns.set(font_scale=1.4)\n",
        "data['Tag'].value_counts().plot(kind='barh', figsize=(9, 3))\n",
        "plt.xlabel(\"Number of Comments\", labelpad=12)\n",
        "plt.ylabel(\"Sentiment Class\", labelpad=12)\n",
        "plt.yticks(rotation = 45)\n",
        "plt.title(\"Dataset Distribution\", y=1.02);"
      ],
      "execution_count": 12,
      "outputs": [
        {
          "output_type": "display_data",
          "data": {
            "image/png": "[encoded data removed]",
            "text/plain": [
              "<Figure size 648x216 with 1 Axes>"
            ]
          },
          "metadata": {}
        }
      ]
    },
    {
      "cell_type": "markdown",
      "metadata": {
        "id": "sayDH_e9PeQc"
      },
      "source": [
        "Data Cleaning"
      ]
    },
    {
      "cell_type": "code",
      "metadata": {
        "id": "p0Xr-oZOBWe9"
      },
      "source": [
        "\n",
        "# Data cleaning function\n",
        "def process_comments(Comment): \n",
        "    Comment = re.sub('[^\\u0980-\\u09FF]',' ',str(Comment)) #removing unnecessary punctuation\n",
        "    return Comment"
      ],
      "execution_count": 13,
      "outputs": []
    },
    {
      "cell_type": "code",
      "metadata": {
        "colab": {
          "base_uri": "https://localhost:8080/"
        },
        "id": "wPXmYTjkBWce",
        "outputId": "93fd34b2-4453-4e93-ffc9-f41492d2b9a3"
      },
      "source": [
        "# Apply the function into the dataframe\n",
        "data['cleaned'] = data['Comments'].apply(process_comments)  \n",
        "\n",
        "# print some cleaned reviews from the dataset\n",
        "sample_data = [10,100,25,854,966,1500,1589,1700,2000,2500,4000,4500]\n",
        "for i in sample_data:\n",
        "     print('Original:\\n',data.Comments[i],'\\nCleaned:\\n',\n",
        "           data.cleaned[i],'\\n','Sentiment:-- ',data.Tag[i],'\\n')"
      ],
      "execution_count": 14,
      "outputs": [
        {
          "output_type": "stream",
          "name": "stdout",
          "text": [
            "Original:\n",
            " চেয়ার কিনেছি অনলি ফর ইউ! \n",
            "Cleaned:\n",
            " চেয়ার কিনেছি অনলি ফর ইউ  \n",
            " Sentiment:--  Negative \n",
            "\n",
            "Original:\n",
            " সরকার জনগণের সাপোর্ট নিয়েই ক্ষমতায় এসেছে বিএনপিকে এখন জনগণ চায় না এটা ভাল মত বুজতে পারে বলেই এখন এসব করে আবার ক্ষমতায় আসার চেষ্টা চালাচ্ছে \n",
            "Cleaned:\n",
            " সরকার জনগণের সাপোর্ট নিয়েই ক্ষমতায় এসেছে বিএনপিকে এখন জনগণ চায় না এটা ভাল মত বুজতে পারে বলেই এখন এসব করে আবার ক্ষমতায় আসার চেষ্টা চালাচ্ছে \n",
            " Sentiment:--  Neutral \n",
            "\n",
            "Original:\n",
            " নিচের ছবি গুলা সত্য আর হারানোর বেদনার!! আর উপরের টা মিথ্যা গল্পের \n",
            "Cleaned:\n",
            " নিচের ছবি গুলা সত্য আর হারানোর বেদনার   আর উপরের টা মিথ্যা গল্পের \n",
            " Sentiment:--  Neutral \n",
            "\n",
            "Original:\n",
            " আপতত কয়েকদিন চুপ থাকেন \n",
            "Cleaned:\n",
            " আপতত কয়েকদিন চুপ থাকেন \n",
            " Sentiment:--  Negative \n",
            "\n",
            "Original:\n",
            " মানুষের বিবেক যখন পঁচে যায় তখন আল্লাহ শাস্তি হিসেবে মানুষকে আওয়ামী লীগে পাঠিয়ে দেন। \n",
            "Cleaned:\n",
            " মানুষের বিবেক যখন পঁচে যায় তখন আল্লাহ শাস্তি হিসেবে মানুষকে আওয়ামী লীগে পাঠিয়ে দেন  \n",
            " Sentiment:--  Negative \n",
            "\n",
            "Original:\n",
            " অতঃপর আমি শেষের শব্দ বুঝতে না পেরে, ইহা কপি করে গুগল-এ গিয়ে বুঝার চেষ্টা করলাম, তারাও ব্যর্থ উচ্চারণ করতে কি ছিলো ব্র \n",
            "Cleaned:\n",
            " অতঃপর আমি শেষের শব্দ বুঝতে না পেরে  ইহা কপি করে গুগল এ গিয়ে বুঝার চেষ্টা করলাম  তারাও ব্যর্থ উচ্চারণ করতে কি ছিলো ব্র \n",
            " Sentiment:--  Neutral \n",
            "\n",
            "Original:\n",
            " ভুল করে হা হা পরে গেছে। কিছু মনে কইরেন না আফা \n",
            "Cleaned:\n",
            " ভুল করে হা হা পরে গেছে  কিছু মনে কইরেন না আফা \n",
            " Sentiment:--  Neutral \n",
            "\n",
            "Original:\n",
            " বাড়িওয়ালার মেয়ে ফারিয়া আপনি যদি কমেন্টটা দেখে থাকেন, \n",
            "Cleaned:\n",
            " বাড়িওয়ালার মেয়ে ফারিয়া আপনি যদি কমেন্টটা দেখে থাকেন  \n",
            " Sentiment:--  Neutral \n",
            "\n",
            "Original:\n",
            " দর্শকপ্রিয়!? \n",
            "Cleaned:\n",
            " দর্শকপ্রিয়   \n",
            " Sentiment:--  Negative \n",
            "\n",
            "Original:\n",
            " পাগল সালারা কোন সালার বাচ্ছ করে এই গুলা \n",
            "Cleaned:\n",
            " পাগল সালারা কোন সালার বাচ্ছ করে এই গুলা \n",
            " Sentiment:--  Negative \n",
            "\n",
            "Original:\n",
            " সৌদি প্রিন্স যুবরাজ মোহাম্মদ বিন সালমানের সালাম নিন \n",
            "Cleaned:\n",
            " সৌদি প্রিন্স যুবরাজ মোহাম্মদ বিন সালমানের সালাম নিন \n",
            " Sentiment:--  Neutral \n",
            "\n",
            "Original:\n",
            " পৃথিবী থেকে অবসর নেওয়ার আগে মুস্তাফিজের কাছে ক্ষমা চেয়ে নিও। \n",
            "Cleaned:\n",
            " পৃথিবী থেকে অবসর নেওয়ার আগে মুস্তাফিজের কাছে ক্ষমা চেয়ে নিও  \n",
            " Sentiment:--  Neutral \n",
            "\n"
          ]
        }
      ]
    },
    {
      "cell_type": "markdown",
      "metadata": {
        "id": "AmZ8WdqiPiNj"
      },
      "source": [
        "Remove Low lenght data"
      ]
    },
    {
      "cell_type": "code",
      "metadata": {
        "colab": {
          "base_uri": "https://localhost:8080/"
        },
        "id": "1-YRqbKUBWaC",
        "outputId": "c7d49359-685c-4d6d-8287-4c5595a12efd"
      },
      "source": [
        "# Length of each Reveiws\n",
        "data['length'] = data['cleaned'].apply(lambda x:len(x.split()))\n",
        "# Remove the reviews with least words\n",
        "dataset = data.loc[data.length>1]\n",
        "dataset = dataset.reset_index(drop = True)\n",
        "print(\"After Cleaning:\",\"\\nRemoved {} Small Reviews\".format(len(data)-len(dataset)),\n",
        "      \"\\nTotal Reviews:\",len(dataset))"
      ],
      "execution_count": 15,
      "outputs": [
        {
          "output_type": "stream",
          "name": "stdout",
          "text": [
            "After Cleaning: \n",
            "Removed 133 Small Reviews \n",
            "Total Reviews: 10873\n"
          ]
        }
      ]
    },
    {
      "cell_type": "markdown",
      "metadata": {
        "id": "xMYMn0EkPm7z"
      },
      "source": [
        "Dataset Summary"
      ]
    },
    {
      "cell_type": "code",
      "metadata": {
        "colab": {
          "base_uri": "https://localhost:8080/"
        },
        "id": "54nhYmTTBWXO",
        "outputId": "a18d7a71-5afa-4335-9490-ca0c8514cd87"
      },
      "source": [
        "def data_summary(dataset):\n",
        "    \n",
        "    \"\"\"\n",
        "    This function will print the summary of the reviews and words distribution in the dataset. \n",
        "    \n",
        "    Args:\n",
        "        dataset: list of cleaned sentences   \n",
        "        \n",
        "    Returns:\n",
        "        Number of documnets per class: int \n",
        "        Number of words per class: int\n",
        "        Number of unique words per class: int\n",
        "    \"\"\"\n",
        "    documents = []\n",
        "    words = []\n",
        "    u_words = []\n",
        "    total_u_words = [word.strip().lower() for t in list(dataset.cleaned) for word in t.strip().split()]\n",
        "    class_label= [k for k,v in dataset.Tag.value_counts().to_dict().items()]\n",
        "  # find word list\n",
        "    for label in class_label: \n",
        "        word_list = [word.strip().lower() for t in list(dataset[dataset.Tag==label].cleaned) for word in t.strip().split()]\n",
        "        counts = dict()\n",
        "        for word in word_list:\n",
        "                counts[word] = counts.get(word, 0)+1\n",
        "        # sort the dictionary of word list  \n",
        "        ordered = sorted(counts.items(), key= lambda item: item[1],reverse = True)\n",
        "        # Documents per class\n",
        "        documents.append(len(list(dataset[dataset.Tag==label].cleaned)))\n",
        "        # Total Word per class\n",
        "        words.append(len(word_list))\n",
        "        # Unique words per class \n",
        "        u_words.append(len(np.unique(word_list)))\n",
        "       \n",
        "        print(\"\\nClass Name : \",label)\n",
        "        print(\"Number of Documents:{}\".format(len(list(dataset[dataset.Tag==label].cleaned))))  \n",
        "        print(\"Number of Words:{}\".format(len(word_list))) \n",
        "        print(\"Number of Unique Words:{}\".format(len(np.unique(word_list)))) \n",
        "        print(\"Most Frequent Words:\\n\")\n",
        "        for k,v in ordered[:10]:\n",
        "              print(\"{}\\t{}\".format(k,v))\n",
        "    print(\"Total Number of Unique Words:{}\".format(len(np.unique(total_u_words))))           \n",
        "   \n",
        "    return documents,words,u_words,class_label\n",
        "\n",
        "#call the fucntion\n",
        "documents,words,u_words,class_names = data_summary(dataset)"
      ],
      "execution_count": 16,
      "outputs": [
        {
          "output_type": "stream",
          "name": "stdout",
          "text": [
            "\n",
            "Class Name :  Negative\n",
            "Number of Documents:5201\n",
            "Number of Words:73396\n",
            "Number of Unique Words:14563\n",
            "Most Frequent Words:\n",
            "\n",
            "না\t1466\n",
            "করে\t757\n",
            "আর\t670\n",
            "এই\t603\n",
            "কি\t569\n",
            "আপনার\t421\n",
            "নাস্তিক\t376\n",
            "তো\t373\n",
            "থেকে\t364\n",
            "জন্য\t342\n",
            "\n",
            "Class Name :  Neutral\n",
            "Number of Documents:3803\n",
            "Number of Words:50674\n",
            "Number of Unique Words:11674\n",
            "Most Frequent Words:\n",
            "\n",
            "না\t962\n",
            "করে\t482\n",
            "কি\t406\n",
            "আর\t404\n",
            "এই\t370\n",
            "আপনার\t286\n",
            "ভাই\t275\n",
            "হবে\t262\n",
            "কিছু\t257\n",
            "জন্য\t241\n",
            "\n",
            "Class Name :  Positive\n",
            "Number of Documents:1869\n",
            "Number of Words:25927\n",
            "Number of Unique Words:6997\n",
            "Most Frequent Words:\n",
            "\n",
            "না\t382\n",
            "করে\t257\n",
            "আপনার\t255\n",
            "জন্য\t192\n",
            "এই\t178\n",
            "অনেক\t168\n",
            "আপনি\t166\n",
            "ভাই\t162\n",
            "আর\t158\n",
            "ভালো\t155\n",
            "Total Number of Unique Words:22873\n"
          ]
        }
      ]
    },
    {
      "cell_type": "markdown",
      "metadata": {
        "id": "YmleDNWIPrG-"
      },
      "source": [
        "Dataset Summary Visualization"
      ]
    },
    {
      "cell_type": "code",
      "metadata": {
        "colab": {
          "base_uri": "https://localhost:8080/",
          "height": 358
        },
        "id": "H1FP6EeGBWU2",
        "outputId": "0b3171fe-3d1e-4a1c-ea8b-4cffcdf61467"
      },
      "source": [
        "data_matrix = pd.DataFrame({'Total Documents':documents,\n",
        "                            'Total Words':words,\n",
        "                            'Unique Words':u_words,\n",
        "                            'Class Names':class_names})\n",
        "df = pd.melt(data_matrix, id_vars=\"Class Names\", var_name=\"Category\", value_name=\"Values\")\n",
        "plt.figure(figsize=(8, 4))\n",
        "ax = plt.subplot()\n",
        "\n",
        "sns.barplot(data=df,x='Class Names', y='Values' ,hue='Category')\n",
        "ax.set_xlabel('Class Names') \n",
        "ax.set_title('Data Statistics')\n",
        "\n",
        "ax.xaxis.set_ticklabels(class_names, rotation=45);"
      ],
      "execution_count": 17,
      "outputs": [
        {
          "output_type": "display_data",
          "data": {
            "image/png": "[encoded data removed]",
            "text/plain": [
              "<Figure size 576x288 with 1 Axes>"
            ]
          },
          "metadata": {}
        }
      ]
    },
    {
      "cell_type": "markdown",
      "metadata": {
        "id": "MkR1qEgxPvk3"
      },
      "source": [
        "Comment Lenght Distribution"
      ]
    },
    {
      "cell_type": "code",
      "metadata": {
        "colab": {
          "base_uri": "https://localhost:8080/",
          "height": 367
        },
        "id": "0g3-MtywBWSM",
        "outputId": "29ca8df5-2b3a-4316-d6be-68a0736bf276"
      },
      "source": [
        "# Calculate the Review of each of the Review\n",
        "dataset['ReviewLength'] = dataset.cleaned.apply(lambda x:len(x.split()))\n",
        "frequency = dict()\n",
        "for i in dataset.ReviewLength:\n",
        "    frequency[i] = frequency.get(i, 0)+1\n",
        "\n",
        "plt.bar(frequency.keys(), frequency.values(), color =\"b\")\n",
        "plt.xlim(1, 135)\n",
        "# in this notbook color is not working but it should work.\n",
        "plt.xlabel('Lenght of the Texts')\n",
        "plt.ylabel('Frequency')\n",
        "plt.title('Length-Frequency Distribution')\n",
        "plt.show()  \n",
        "print(f\"Maximum Length of a review: {max(dataset.ReviewLength)}\")\n",
        "print(f\"Minimum Length of a review: {min(dataset.ReviewLength)}\")\n",
        "print(f\"Average Length of a reviews: {round(np.mean(dataset.ReviewLength),0)}\")"
      ],
      "execution_count": 18,
      "outputs": [
        {
          "output_type": "display_data",
          "data": {
            "image/png": "[encoded data removed]",
            "text/plain": [
              "<Figure size 432x288 with 1 Axes>"
            ]
          },
          "metadata": {}
        },
        {
          "output_type": "stream",
          "name": "stdout",
          "text": [
            "Maximum Length of a review: 153\n",
            "Minimum Length of a review: 2\n",
            "Average Length of a reviews: 14.0\n"
          ]
        }
      ]
    },
    {
      "cell_type": "markdown",
      "metadata": {
        "id": "2s9pYt-rP0mc"
      },
      "source": [
        "Take only Positive and Negative Class for Model Building"
      ]
    },
    {
      "cell_type": "code",
      "metadata": {
        "colab": {
          "base_uri": "https://localhost:8080/"
        },
        "id": "Qw_W-u7jCQPn",
        "outputId": "31998fbe-6500-4d96-aee1-99dc38a319ca"
      },
      "source": [
        "positive = dataset[dataset.Tag == 'Positive']\n",
        "negative = dataset[dataset.Tag == 'Negative']\n",
        "#neutral = dataset[dataset.Tag == 'Neutral'][:1800]\n",
        "dataset = positive.append(negative,ignore_index=True)\n",
        "#dataset = dataset1.append(neutral,ignore_index=True)\n",
        "dataset.Tag.value_counts()"
      ],
      "execution_count": 19,
      "outputs": [
        {
          "output_type": "execute_result",
          "data": {
            "text/plain": [
              "Negative    5201\n",
              "Positive    1869\n",
              "Name: Tag, dtype: int64"
            ]
          },
          "metadata": {},
          "execution_count": 19
        }
      ]
    },
    {
      "cell_type": "markdown",
      "metadata": {
        "id": "evtUkPNeCdu3"
      },
      "source": [
        "**Lable Encoding and Dataset Splitting**"
      ]
    },
    {
      "cell_type": "code",
      "metadata": {
        "id": "D6PVlj-eCQM_"
      },
      "source": [
        "#==================================================\n",
        "                                       ################# Label Encoding Function #########\n",
        "                                       #==================================================\n",
        "\n",
        "def label_encoding(sentiment,bool):\n",
        "    \"\"\"\n",
        "    This function will return the encoded labels in array format. \n",
        "    \n",
        "    Args:\n",
        "        sentiment: series of class names(str)\n",
        "        bool: boolean (True or False)\n",
        "        \n",
        "    Returns:\n",
        "        labels: numpy array \n",
        "    \"\"\"\n",
        "    le = LabelEncoder()\n",
        "    le.fit(sentiment)\n",
        "    encoded_labels = le.transform(sentiment)\n",
        "    labels = np.array(encoded_labels) # Converting into numpy array\n",
        "    class_names =le.classes_ ## Define the class names again\n",
        "    if bool == True:\n",
        "        print(\"\\n\\t\\t\\t===== Label Encoding =====\",\"\\nClass Names:-->\",le.classes_)\n",
        "        for i in sample_data:\n",
        "            print(sentiment[i],' ', encoded_labels[i],'\\n')\n",
        "\n",
        "    return labels\n",
        "\n",
        "\n",
        "\n",
        "                           #===========================================================\n",
        "                           ################# Dataset Splitting Function ###############\n",
        "                           #=========================================================== \n",
        "\n",
        "def dataset_split(feature_space,sentiment):\n",
        "    \"\"\"\n",
        "    This function will return the splitted (80%-20%) feature vector . \n",
        "    \n",
        "    Args:\n",
        "        feature_space: calcuated feature vector (sparse matrix)\n",
        "        sentiment: encoded lables (array) \n",
        "        \n",
        "    Returns:\n",
        "        X_train: training feature vector (sparse matrix)\n",
        "        X_test : testing feature vector (sparse matrix)\n",
        "        y_train: training encoded labels (array) \n",
        "        y_test : testing encoded labels (array) \n",
        "    \"\"\"\n",
        "\n",
        "    X_train,X_test,y_train,y_test = train_test_split(feature_space,sentiment,train_size = 0.9,\n",
        "                                                  test_size = 0.1,random_state =0)\n",
        "    print(\"Feature Size :======>\",X_train.shape[1])\n",
        "    print(\"\\nDataset Distribution:\\n\")\n",
        "    print(\"\\tSet Name\",\"\\t\\tSize\")\n",
        "    print(\"\\t========\\t\\t======\")\n",
        "\n",
        "    print(\"\\tFull\\t\\t\\t\",feature_space.shape[0],\n",
        "        \"\\n\\tTraining\\t\\t\",X_train.shape[0],\n",
        "        \"\\n\\tTest\\t\\t\\t\",X_test.shape[0])\n",
        "  \n",
        "    return X_train,X_test,y_train,y_test"
      ],
      "execution_count": 20,
      "outputs": []
    },
    {
      "cell_type": "code",
      "metadata": {
        "id": "5ltTDryRCQJ-"
      },
      "source": [
        "dataset.cleaned = dataset.cleaned.apply(lambda x:x.replace('\\n',' '))"
      ],
      "execution_count": 21,
      "outputs": []
    },
    {
      "cell_type": "markdown",
      "metadata": {
        "id": "8KW2XN52Cqgd"
      },
      "source": [
        "Model Building Using Machine Learning\n",
        "Feature Extraction Using TF-IDF "
      ]
    },
    {
      "cell_type": "code",
      "metadata": {
        "id": "U8rCpkSuCvTb"
      },
      "source": [
        "#======================================\n",
        "                                            ##### Unigram Tf-idf value calculation\n",
        "                                            #======================================\n",
        "            \n",
        "def calc_gram_tfidf(reviews,gram):\n",
        "    \"\"\"\n",
        "    This function will return the tf-idf value of the respective gram features . \n",
        "    \n",
        "    Args:\n",
        "        reviews: a list of cleaned reviews   \n",
        "        \n",
        "    Returns:\n",
        "        tfidf: a instance of TfidfVectorizer\n",
        "        X : Unigram Feature Vector (sparse matrix)\n",
        "    \"\"\"\n",
        "    tfidf = TfidfVectorizer(ngram_range=gram,use_idf=True,tokenizer=lambda x: x.split()) \n",
        "    X = tfidf.fit_transform(reviews)\n",
        "    \n",
        "    return tfidf,X"
      ],
      "execution_count": 22,
      "outputs": []
    },
    {
      "cell_type": "code",
      "metadata": {
        "id": "euFgQcJfCvRY"
      },
      "source": [
        "from sklearn.linear_model import LogisticRegression\n",
        "from sklearn.tree import DecisionTreeClassifier\n",
        "from sklearn.ensemble import RandomForestClassifier\n",
        "from sklearn.naive_bayes import MultinomialNB\n",
        "from sklearn.neighbors import KNeighborsClassifier\n",
        "from sklearn.svm import SVC\n",
        "from sklearn.linear_model import SGDClassifier\n",
        "from sklearn.metrics import classification_report,accuracy_score,precision_score,recall_score,f1_score\n",
        "from sklearn.metrics import roc_curve, roc_auc_score\n",
        "from sklearn.metrics import average_precision_score,roc_auc_score, roc_curve, precision_recall_curve"
      ],
      "execution_count": 23,
      "outputs": []
    },
    {
      "cell_type": "code",
      "metadata": {
        "id": "_kA_X86jCvOe"
      },
      "source": [
        "#============================================\n",
        "                                              #########  Classifiers Defination  #########\n",
        "                                              #============================================\n",
        "def ml_models_defination(): \n",
        "    \"\"\"\n",
        "    This function consists the models defination for All gram Features\n",
        "    \n",
        "    Retuns:\n",
        "        ml_models: list of models\n",
        "        model_names: list of model_names\n",
        "    \n",
        "    \"\"\"\n",
        "    \n",
        "    lr_model = LogisticRegression(random_state = 123,solver='lbfgs',max_iter=5000)\n",
        "    dt_model = DecisionTreeClassifier(criterion = 'entropy', random_state = 0)\n",
        "    rf_model = RandomForestClassifier(n_estimators=100, criterion ='entropy', random_state = 0)\n",
        "    mnb_model = MultinomialNB(alpha=0.15)\n",
        "    knn_model = KNeighborsClassifier(n_neighbors=3, metric = 'minkowski')\n",
        "    lsvm_model = SVC(kernel = 'linear',C = 0.2, probability=True, random_state = 0)\n",
        "    ksvm_model = SVC(C= 1000,kernel = 'rbf',probability=True, gamma = 0.00015, random_state = 0)\n",
        "    model_names = ['Logistic Regression','Decision Tree','Random Forest','Naive Bayes','KNN','Linear SVM','Kernel SVM']\n",
        "    #model_names = ['Logistic Regression']\n",
        "    # Create list of models\n",
        "    ml_models = [lr_model,dt_model,rf_model,mnb_model,knn_model,lsvm_model,ksvm_model]\n",
        "    #ml_models = [lr_model]\n",
        "    return ml_models,model_names \n",
        "\n",
        "\n",
        "                                          #============================================\n",
        "                                           ####### Model Evaluation Function ############\n",
        "                                           #=============================================\n",
        "\n",
        "def model_performace(model,X_train,X_test,y_train,y_test):\n",
        "    \"\"\"\n",
        "    This function will return the performance parameter values of each ML models.\n",
        "    Performance parameters are Accuracy, F1-Score, Precision, Recall.\n",
        "    \n",
        "    Args:\n",
        "        model: a ML model instance\n",
        "        X_train: training feature vector (sparse matrix)\n",
        "        X_test : testing feature vector (sparse matrix)\n",
        "        y_train: training encoded labels (array) \n",
        "        y_test : testing encoded labels (array) \n",
        "        \n",
        "    Returns:\n",
        "        my_dict: a dictionary of all the parameters for each models\n",
        "    \"\"\"\n",
        "    my_dict = {}\n",
        "    model.fit(X_train,y_train)\n",
        "    # Prediction\n",
        "    pred_y = model.predict(X_test)\n",
        "    my_dict['Accuracy'] = round(accuracy_score(y_test, pred_y),4)*100 \n",
        "    my_dict['Precision'] = round(precision_score(y_test, pred_y,average='weighted'),4)*100 \n",
        "    my_dict['Recall'] = round(recall_score(y_test, pred_y,average='weighted'),4)*100 \n",
        "    my_dict['F1 Score'] = round(f1_score(y_test, pred_y,average='weighted'),4)*100 \n",
        "    \n",
        "    return my_dict  \n",
        "\n",
        "                                        #========================================\n",
        "                                        #### Model Performane into Dataframe #####\n",
        "                                        #=========================================\n",
        "            \n",
        "def performance_table(performance_dict):\n",
        "    \"\"\"\n",
        "    This function will create a dataframe of all the performance parameters.\n",
        "    \n",
        "    Args:\n",
        "        performance_dict: a dictionary of all the parameters for each models\n",
        "        \n",
        "    Returns:\n",
        "        performance_df: a dataframe\n",
        "    \"\"\"\n",
        "\n",
        "    acc_list = []\n",
        "    pr_list = []\n",
        "    re_list = []\n",
        "    f1_list = []\n",
        "    for i in performance_dict.keys():\n",
        "        acc_list.append(performance_dict[i]['Accuracy'])\n",
        "        pr_list.append(performance_dict[i]['Precision'])\n",
        "        re_list.append(performance_dict[i]['Recall'])\n",
        "        f1_list.append(performance_dict[i]['F1 Score'])\n",
        "\n",
        "    # Create a dataframe\n",
        "    model_names = ['LR','DT','RF','MNB','KNN','Linear SVM','RBF SVM']\n",
        "    performance_df = pd.DataFrame({'Accuracy':acc_list,'Precision':pr_list,\n",
        "                                   'Recall':re_list,'F1 Score':f1_list,\n",
        "                                   'Model Name':model_names })\n",
        "    return performance_df"
      ],
      "execution_count": 24,
      "outputs": []
    },
    {
      "cell_type": "markdown",
      "metadata": {
        "id": "y3TG8nDjC7St"
      },
      "source": [
        "\n",
        "Model Training"
      ]
    },
    {
      "cell_type": "code",
      "metadata": {
        "colab": {
          "base_uri": "https://localhost:8080/"
        },
        "id": "DdPHA6wZCvL9",
        "outputId": "efda3338-f179-451c-fd49-03b296e6bb29"
      },
      "source": [
        "## save the performance of the model for each gram feature \n",
        "gram_names = ['Unigram','Bigram','Trigram']\n",
        "ngrams = [(1,1),(1,2),(1,3)]\n",
        "for i,gram in enumerate(ngrams):\n",
        "    tfidf,feature = calc_gram_tfidf(dataset.cleaned,gram)\n",
        "    labels = label_encoding(dataset.Tag,False)\n",
        "    X_train,X_test,y_train,y_test = dataset_split(feature,labels) \n",
        "    ml_models,model_names = ml_models_defination()\n",
        "    # call model accuracy function and save the metrices into a dictionary\n",
        "    accuracy = {f'{model_names[j]}':model_performace(model,X_train,X_test,y_train,y_test) for j,model in enumerate(ml_models)}\n",
        "    #Save the performance parameter into json file\n",
        "    with open(path+f'ml_performance_{gram_names[i]}.json', 'w') as f:\n",
        "           json.dump(accuracy, f)"
      ],
      "execution_count": 25,
      "outputs": [
        {
          "output_type": "stream",
          "name": "stdout",
          "text": [
            "Feature Size :======> 17731\n",
            "\n",
            "Dataset Distribution:\n",
            "\n",
            "\tSet Name \t\tSize\n",
            "\t========\t\t======\n",
            "\tFull\t\t\t 7070 \n",
            "\tTraining\t\t 6363 \n",
            "\tTest\t\t\t 707\n",
            "Feature Size :======> 88113\n",
            "\n",
            "Dataset Distribution:\n",
            "\n",
            "\tSet Name \t\tSize\n",
            "\t========\t\t======\n",
            "\tFull\t\t\t 7070 \n",
            "\tTraining\t\t 6363 \n",
            "\tTest\t\t\t 707\n",
            "Feature Size :======> 166861\n",
            "\n",
            "Dataset Distribution:\n",
            "\n",
            "\tSet Name \t\tSize\n",
            "\t========\t\t======\n",
            "\tFull\t\t\t 7070 \n",
            "\tTraining\t\t 6363 \n",
            "\tTest\t\t\t 707\n"
          ]
        }
      ]
    },
    {
      "cell_type": "markdown",
      "metadata": {
        "id": "Xwajp5egD8aK"
      },
      "source": [
        "Performance Table"
      ]
    },
    {
      "cell_type": "code",
      "metadata": {
        "colab": {
          "base_uri": "https://localhost:8080/"
        },
        "id": "z8XolJCPD9f-",
        "outputId": "80577e07-3585-409a-94d5-2dc1ed045cb5"
      },
      "source": [
        "\n",
        "# Load all the json files\n",
        "gram_names = ['Unigram','Bigram','Trigram']\n",
        "\n",
        "for gram in gram_names:\n",
        "  accuracy = json.load(open(path+f'ml_performance_{gram}.json'))\n",
        "  table = performance_table(accuracy)\n",
        "  print(f\"\\n========== Performace Table for {gram} feature:========\\n\",table)\n",
        "  print(f\"\\n========In case of {gram} feature:========\\n\")\n",
        "  print(f\"Highest Accuracy achieved by {table['Model Name'][table.Accuracy.idxmax(axis = 0)]} at = {max(table.Accuracy)}\")\n",
        "  print(f\"Highest F1-Score achieved by {table['Model Name'][table['F1 Score'].idxmax(axis = 0)]} at = {max(table['F1 Score'] )}\")\n",
        "  print(f\"Highest Precision Score achieved by {table['Model Name'][table['Precision'].idxmax(axis = 0)]} at = {max(table['Precision'] )}\")\n",
        "  print(f\"Highest Recall Score achieved by {table['Model Name'][table['Recall'].idxmax(axis = 0)]} at = {max(table['Recall'] )}\")"
      ],
      "execution_count": 26,
      "outputs": [
        {
          "output_type": "stream",
          "name": "stdout",
          "text": [
            "\n",
            "========== Performace Table for Unigram feature:========\n",
            "    Accuracy  Precision  Recall  F1 Score  Model Name\n",
            "0     80.20      81.44   80.20     76.22          LR\n",
            "1     76.80      75.70   76.80     76.10          DT\n",
            "2     78.93      78.28   78.93     75.18          RF\n",
            "3     82.60      81.74   82.60     81.56         MNB\n",
            "4     80.48      80.69   80.48     80.58         KNN\n",
            "5     76.80      79.51   76.80     69.60  Linear SVM\n",
            "6     78.36      80.39   78.36     72.78     RBF SVM\n",
            "\n",
            "========In case of Unigram feature:========\n",
            "\n",
            "Highest Accuracy achieved by MNB at = 82.6\n",
            "Highest F1-Score achieved by MNB at = 81.56\n",
            "Highest Precision Score achieved by MNB at = 81.74\n",
            "Highest Recall Score achieved by MNB at = 82.6\n",
            "\n",
            "========== Performace Table for Bigram feature:========\n",
            "    Accuracy  Precision  Recall  F1 Score  Model Name\n",
            "0     77.37      80.93   77.37     70.51          LR\n",
            "1     79.07      77.77   79.07     78.01          DT\n",
            "2     79.77      80.98   79.77     75.54          RF\n",
            "3     81.33      81.40   81.33     81.36         MNB\n",
            "4     80.91      80.81   80.91     80.85         KNN\n",
            "5     75.25      81.45   75.25     65.80  Linear SVM\n",
            "6     76.52      82.18   76.52     68.48     RBF SVM\n",
            "\n",
            "========In case of Bigram feature:========\n",
            "\n",
            "Highest Accuracy achieved by MNB at = 81.33\n",
            "Highest F1-Score achieved by MNB at = 81.36\n",
            "Highest Precision Score achieved by RBF SVM at = 82.17999999999999\n",
            "Highest Recall Score achieved by MNB at = 81.33\n",
            "\n",
            "========== Performace Table for Trigram feature:========\n",
            "    Accuracy  Precision  Recall  F1 Score  Model Name\n",
            "0     76.52      82.18   76.52     68.48          LR\n",
            "1     78.50      77.31   78.50     77.64          DT\n",
            "2     78.93      80.32   78.93     74.02          RF\n",
            "3     77.79      79.55   77.79     78.43         MNB\n",
            "4     79.63      80.01   79.63     79.80         KNN\n",
            "5     74.82      81.22   74.82     64.86  Linear SVM\n",
            "6     75.53      81.61   75.53     66.41     RBF SVM\n",
            "\n",
            "========In case of Trigram feature:========\n",
            "\n",
            "Highest Accuracy achieved by KNN at = 79.63\n",
            "Highest F1-Score achieved by KNN at = 79.80000000000001\n",
            "Highest Precision Score achieved by LR at = 82.17999999999999\n",
            "Highest Recall Score achieved by KNN at = 79.63\n"
          ]
        }
      ]
    },
    {
      "cell_type": "markdown",
      "metadata": {
        "id": "x-mj0E17JJHK"
      },
      "source": [
        "Performance Visualization"
      ]
    },
    {
      "cell_type": "code",
      "metadata": {
        "colab": {
          "base_uri": "https://localhost:8080/",
          "height": 1000
        },
        "id": "4BeBHKVoCvJk",
        "outputId": "2faceed7-dd8e-4473-c4b7-44582c2ce84d"
      },
      "source": [
        "gram_names = ['Unigram','Bigram','Trigram']\n",
        "\n",
        "for gram in gram_names:\n",
        "  accuracy = json.load(open(path+f'ml_performance_{gram}.json'))\n",
        "  table = performance_table(accuracy)\n",
        "  df = pd.melt(table[['Accuracy','F1 Score','Model Name']], id_vars=\"Model Name\", var_name=\"Category\", value_name=\"Values\")\n",
        "  plt.figure(figsize=(8,6))\n",
        "  ax = plt.subplot()\n",
        "  sns.barplot(data=df,x='Model Name', y='Values' ,hue='Category')\n",
        "  ax.set_xlabel('Model Name') \n",
        "  ax.set_title(f'Comparison of Accuracy and F1-Score Value for {gram} Feature')\n",
        "  ax.set_ylim([10,100])\n",
        "  ax.xaxis.set_ticklabels(table['Model Name'], rotation=45);"
      ],
      "execution_count": 27,
      "outputs": [
        {
          "output_type": "display_data",
          "data": {
            "image/png": "[encoded data removed]",
            "text/plain": [
              "<Figure size 576x432 with 1 Axes>"
            ]
          },
          "metadata": {}
        },
        {
          "output_type": "display_data",
          "data": {
            "image/png": "[encoded data removed]",
            "text/plain": [
              "<Figure size 576x432 with 1 Axes>"
            ]
          },
          "metadata": {}
        },
        {
          "output_type": "display_data",
          "data": {
            "image/png": "[encoded data removed]",
            "text/plain": [
              "<Figure size 576x432 with 1 Axes>"
            ]
          },
          "metadata": {}
        }
      ]
    },
    {
      "cell_type": "code",
      "metadata": {
        "id": "p5GW0lfhmH3D"
      },
      "source": [
        "from sklearn.model_selection import cross_val_score"
      ],
      "execution_count": 28,
      "outputs": []
    },
    {
      "cell_type": "code",
      "metadata": {
        "id": "58jpyxnbmJhj"
      },
      "source": [
        "mnb_model = MultinomialNB(alpha=0.15)"
      ],
      "execution_count": 29,
      "outputs": []
    },
    {
      "cell_type": "code",
      "metadata": {
        "colab": {
          "base_uri": "https://localhost:8080/"
        },
        "id": "_rPJs0vcmdLj",
        "outputId": "9208183d-5698-4bbd-e430-94e6dd4afa5e"
      },
      "source": [
        "    tfidf,feature = calc_gram_tfidf(dataset.cleaned,(1,1))\n",
        "    labels = label_encoding(dataset.Tag,False)\n",
        "    X_train,X_test,y_train,y_test = dataset_split(feature,labels) "
      ],
      "execution_count": 97,
      "outputs": [
        {
          "output_type": "stream",
          "name": "stdout",
          "text": [
            "Feature Size :======> 17731\n",
            "\n",
            "Dataset Distribution:\n",
            "\n",
            "\tSet Name \t\tSize\n",
            "\t========\t\t======\n",
            "\tFull\t\t\t 7070 \n",
            "\tTraining\t\t 6363 \n",
            "\tTest\t\t\t 707\n"
          ]
        }
      ]
    },
    {
      "cell_type": "markdown",
      "metadata": {
        "id": "GCMUEmk-o0gT"
      },
      "source": [
        "# **Since for UNIGRAM, MNB had the best result we apply 10 fold cross validation on MNB Model to summarize the cross-validation accuracy by calculating its mean.**"
      ]
    },
    {
      "cell_type": "code",
      "metadata": {
        "id": "aXzd6LRy8Pg1"
      },
      "source": [
        "    tfidf,feature = calc_gram_tfidf(dataset.cleaned,(1,1))\n",
        "    labels = label_encoding(dataset.Tag,False)\n",
        "    X1_train,X1_test,y1_train,y1_test = dataset_split(feature,labels) "
      ],
      "execution_count": null,
      "outputs": []
    },
    {
      "cell_type": "code",
      "metadata": {
        "id": "DKgdWThR1jyU"
      },
      "source": [
        "from sklearn import metrics"
      ],
      "execution_count": 110,
      "outputs": []
    },
    {
      "cell_type": "code",
      "metadata": {
        "id": "6zjJ6cSgnCIj"
      },
      "source": [
        "mnb_model.fit(X_train,y_train)"
      ],
      "execution_count": null,
      "outputs": []
    },
    {
      "cell_type": "code",
      "metadata": {
        "id": "T0ux6EeNn4GK"
      },
      "source": [
        "pred_y = mnb_model.predict(X_test)\n",
        "pred_y"
      ],
      "execution_count": null,
      "outputs": []
    },
    {
      "cell_type": "code",
      "metadata": {
        "colab": {
          "base_uri": "https://localhost:8080/"
        },
        "id": "1azt9MOnoXAj",
        "outputId": "019a090e-9483-458a-d01d-dfcdeaf6e06b"
      },
      "source": [
        "from sklearn.model_selection import cross_val_score\n",
        "\n",
        "scores = cross_val_score(mnb_model, X_train, y_train, cv = 10, scoring='accuracy')\n",
        "\n",
        "print('Cross-validation scores:{}'.format(scores))"
      ],
      "execution_count": 113,
      "outputs": [
        {
          "output_type": "stream",
          "name": "stdout",
          "text": [
            "Cross-validation scores:[0.80533752 0.83359498 0.8288854  0.8254717  0.83018868 0.8663522\n",
            " 0.81761006 0.82075472 0.81603774 0.82861635]\n"
          ]
        }
      ]
    },
    {
      "cell_type": "markdown",
      "metadata": {
        "id": "NYM_cH-Qpc4K"
      },
      "source": [
        "Score improves from  82.60 to 82.7285"
      ]
    },
    {
      "cell_type": "code",
      "metadata": {
        "colab": {
          "base_uri": "https://localhost:8080/"
        },
        "id": "rxuCGdEhonZr",
        "outputId": "678e0900-21c8-4566-c01c-66c7a1e589c6"
      },
      "source": [
        "print('Average cross-validation score: {:.4f}'.format(scores.mean()*100))"
      ],
      "execution_count": 114,
      "outputs": [
        {
          "output_type": "stream",
          "name": "stdout",
          "text": [
            "Average cross-validation score: 82.7285\n"
          ]
        }
      ]
    },
    {
      "cell_type": "markdown",
      "metadata": {
        "id": "C8fzNIj_p5Ee"
      },
      "source": [
        "# **For BIGRAM, MNB had the best result. We apply cross val for MNB model.**"
      ]
    },
    {
      "cell_type": "code",
      "metadata": {
        "colab": {
          "base_uri": "https://localhost:8080/"
        },
        "id": "hXAu-UKxqJWx",
        "outputId": "29bb99dd-4f4f-4318-fecb-0df98272d116"
      },
      "source": [
        "    tfidf,feature = calc_gram_tfidf(dataset.cleaned,(1,2))\n",
        "    labels = label_encoding(dataset.Tag,False)\n",
        "    X2_train,X2_test,y2_train,y2_test = dataset_split(feature,labels)"
      ],
      "execution_count": 115,
      "outputs": [
        {
          "output_type": "stream",
          "name": "stdout",
          "text": [
            "Feature Size :======> 88113\n",
            "\n",
            "Dataset Distribution:\n",
            "\n",
            "\tSet Name \t\tSize\n",
            "\t========\t\t======\n",
            "\tFull\t\t\t 7070 \n",
            "\tTraining\t\t 6363 \n",
            "\tTest\t\t\t 707\n"
          ]
        }
      ]
    },
    {
      "cell_type": "code",
      "metadata": {
        "colab": {
          "base_uri": "https://localhost:8080/"
        },
        "id": "gMRN4UBgqQFL",
        "outputId": "5bce6c9c-06cd-4f96-c406-cb9ec7477903"
      },
      "source": [
        "mnb_model.fit(X1_train,y1_train)"
      ],
      "execution_count": 116,
      "outputs": [
        {
          "output_type": "execute_result",
          "data": {
            "text/plain": [
              "MultinomialNB(alpha=0.15, class_prior=None, fit_prior=True)"
            ]
          },
          "metadata": {},
          "execution_count": 116
        }
      ]
    },
    {
      "cell_type": "code",
      "metadata": {
        "id": "1_jDNv-uqSaD"
      },
      "source": [
        "pred_y = mnb_model.predict(X1_test)\n",
        "pred_y"
      ],
      "execution_count": null,
      "outputs": []
    },
    {
      "cell_type": "code",
      "metadata": {
        "colab": {
          "base_uri": "https://localhost:8080/"
        },
        "id": "U-VKYUA-qa0a",
        "outputId": "fb3210e0-5be3-43c2-d0bc-b0788f231412"
      },
      "source": [
        "from sklearn.model_selection import cross_val_score\n",
        "\n",
        "scores = cross_val_score(mnb_model, X1_train, y1_train, cv = 10, scoring='accuracy')\n",
        "\n",
        "print('Cross-validation scores:{}'.format(scores))"
      ],
      "execution_count": 75,
      "outputs": [
        {
          "output_type": "stream",
          "name": "stdout",
          "text": [
            "Cross-validation scores:[0.80690738 0.83359498 0.81318681 0.82232704 0.81761006 0.85691824\n",
            " 0.8254717  0.82704403 0.80345912 0.8254717 ]\n"
          ]
        }
      ]
    },
    {
      "cell_type": "markdown",
      "metadata": {
        "id": "Vi0iKyslqogL"
      },
      "source": [
        "Score improves from 81.33 to 82.3199"
      ]
    },
    {
      "cell_type": "code",
      "metadata": {
        "colab": {
          "base_uri": "https://localhost:8080/"
        },
        "id": "z3te1aaJqfY6",
        "outputId": "060bcbe3-443c-4e93-d262-74acd2681cf8"
      },
      "source": [
        "print('Average cross-validation score: {:.4f}'.format(scores.mean()*100))"
      ],
      "execution_count": 118,
      "outputs": [
        {
          "output_type": "stream",
          "name": "stdout",
          "text": [
            "Average cross-validation score: 82.7285\n"
          ]
        }
      ]
    },
    {
      "cell_type": "markdown",
      "metadata": {
        "id": "om0eMdSgq5nu"
      },
      "source": [
        "# **For TRIGRAM, KNN had the best result. We apply cross val for KNN model.**"
      ]
    },
    {
      "cell_type": "code",
      "metadata": {
        "id": "Bc0VawS8rMJM"
      },
      "source": [
        "knn_model = KNeighborsClassifier(n_neighbors=3, metric = 'minkowski')"
      ],
      "execution_count": 119,
      "outputs": []
    },
    {
      "cell_type": "code",
      "metadata": {
        "id": "XpeiWuVZq5nv"
      },
      "source": [
        "    tfidf,feature = calc_gram_tfidf(dataset.cleaned,(1,3))\n",
        "    labels = label_encoding(dataset.Tag,False)\n",
        "    X3_train,X3_test,y3_train,y3_test = dataset_split(feature,labels)"
      ],
      "execution_count": null,
      "outputs": []
    },
    {
      "cell_type": "code",
      "metadata": {
        "colab": {
          "base_uri": "https://localhost:8080/"
        },
        "id": "FW3_-Yp2q5nv",
        "outputId": "42622285-a83b-4c67-a692-25b72ffec3aa"
      },
      "source": [
        "knn_model.fit(X_train,y_train)"
      ],
      "execution_count": 122,
      "outputs": [
        {
          "output_type": "execute_result",
          "data": {
            "text/plain": [
              "KNeighborsClassifier(algorithm='auto', leaf_size=30, metric='minkowski',\n",
              "                     metric_params=None, n_jobs=None, n_neighbors=3, p=2,\n",
              "                     weights='uniform')"
            ]
          },
          "metadata": {},
          "execution_count": 122
        }
      ]
    },
    {
      "cell_type": "code",
      "metadata": {
        "id": "ul5INavkq5nv"
      },
      "source": [
        "pred_y = knn_model.predict(X_test)\n",
        "pred_y"
      ],
      "execution_count": null,
      "outputs": []
    },
    {
      "cell_type": "code",
      "metadata": {
        "colab": {
          "base_uri": "https://localhost:8080/"
        },
        "id": "1NC0l0Arq5nw",
        "outputId": "f5213290-2931-4438-b0a9-61b1f4540f20"
      },
      "source": [
        "from sklearn.model_selection import cross_val_score\n",
        "\n",
        "scores = cross_val_score(knn_model, X_train, y_train, cv = 10, scoring='accuracy')\n",
        "\n",
        "print('Cross-validation scores:{}'.format(scores))"
      ],
      "execution_count": 124,
      "outputs": [
        {
          "output_type": "stream",
          "name": "stdout",
          "text": [
            "Cross-validation scores:[0.7755102  0.79905808 0.81946625 0.80503145 0.80188679 0.81918239\n",
            " 0.8081761  0.79559748 0.7908805  0.80031447]\n"
          ]
        }
      ]
    },
    {
      "cell_type": "markdown",
      "metadata": {
        "id": "zUYZy4REra9L"
      },
      "source": [
        "After applying score becomes 79.6007 from 79.63"
      ]
    },
    {
      "cell_type": "code",
      "metadata": {
        "colab": {
          "base_uri": "https://localhost:8080/"
        },
        "id": "Tcj5hxQZq5nw",
        "outputId": "06c3418c-e380-401a-a536-faea2d6136a7"
      },
      "source": [
        "print('Average cross-validation score: {:.4f}'.format(scores.mean()*100))"
      ],
      "execution_count": 125,
      "outputs": [
        {
          "output_type": "stream",
          "name": "stdout",
          "text": [
            "Average cross-validation score: 80.1510\n"
          ]
        }
      ]
    },
    {
      "cell_type": "code",
      "metadata": {
        "colab": {
          "base_uri": "https://localhost:8080/"
        },
        "id": "K2jdL3u6sbdk",
        "outputId": "74bbfe0d-b907-4c09-a0de-5ea17c168768"
      },
      "source": [
        "x=(accuracy_score(y_test, pred_y),4)\n",
        "x"
      ],
      "execution_count": 126,
      "outputs": [
        {
          "output_type": "execute_result",
          "data": {
            "text/plain": [
              "(0.8048090523338048, 4)"
            ]
          },
          "metadata": {},
          "execution_count": 126
        }
      ]
    },
    {
      "cell_type": "markdown",
      "metadata": {
        "id": "5EkftijQ3L3r"
      },
      "source": [
        "# **ROC**"
      ]
    },
    {
      "cell_type": "markdown",
      "metadata": {
        "id": "Ro1lko-o4gb8"
      },
      "source": [
        "MNB unigram"
      ]
    },
    {
      "cell_type": "code",
      "metadata": {
        "id": "7MPhZC4h3Kxs"
      },
      "source": [
        "from sklearn import metrics\n",
        "from sklearn.metrics import (confusion_matrix, precision_recall_curve, auc, roc_curve, recall_score, \n",
        "                             classification_report, f1_score, average_precision_score, precision_recall_fscore_support)"
      ],
      "execution_count": 127,
      "outputs": []
    },
    {
      "cell_type": "code",
      "metadata": {
        "id": "EGpufrSM3bwk"
      },
      "source": [
        "mnb_model1 = MultinomialNB(alpha=0.15)"
      ],
      "execution_count": 129,
      "outputs": []
    },
    {
      "cell_type": "code",
      "metadata": {
        "colab": {
          "base_uri": "https://localhost:8080/"
        },
        "id": "QI_9Za8C3kls",
        "outputId": "9bbfe461-72f6-4554-ac4a-336c4c001d4d"
      },
      "source": [
        "mnb_model1.fit(X1_train,y1_train)"
      ],
      "execution_count": 131,
      "outputs": [
        {
          "output_type": "execute_result",
          "data": {
            "text/plain": [
              "MultinomialNB(alpha=0.15, class_prior=None, fit_prior=True)"
            ]
          },
          "metadata": {},
          "execution_count": 131
        }
      ]
    },
    {
      "cell_type": "code",
      "metadata": {
        "id": "gVqfVMXS3oM_"
      },
      "source": [
        "y_pred_prob_nb1 = mnb_model1.predict_proba(X1_test)[:,1]"
      ],
      "execution_count": 132,
      "outputs": []
    },
    {
      "cell_type": "code",
      "metadata": {
        "id": "ujsDLQCQ4C0U"
      },
      "source": [
        "fpr_nb1, tpr_nb1, thresholds_nb1 = roc_curve(y_test, y_pred_prob_nb)"
      ],
      "execution_count": 133,
      "outputs": []
    },
    {
      "cell_type": "markdown",
      "metadata": {
        "id": "og_Y1IsB4lb0"
      },
      "source": [
        "MNB bigram"
      ]
    },
    {
      "cell_type": "code",
      "metadata": {
        "id": "eCPkAJl84ops"
      },
      "source": [
        "mnb_model2 = MultinomialNB(alpha=0.15)"
      ],
      "execution_count": 134,
      "outputs": []
    },
    {
      "cell_type": "code",
      "metadata": {
        "colab": {
          "base_uri": "https://localhost:8080/"
        },
        "id": "xvW9Hwzt6yFh",
        "outputId": "99250b81-d05e-496b-b42d-0fcda93645d3"
      },
      "source": [
        "mnb_model2.fit(X2_train,y2_train)"
      ],
      "execution_count": 135,
      "outputs": [
        {
          "output_type": "execute_result",
          "data": {
            "text/plain": [
              "MultinomialNB(alpha=0.15, class_prior=None, fit_prior=True)"
            ]
          },
          "metadata": {},
          "execution_count": 135
        }
      ]
    },
    {
      "cell_type": "code",
      "metadata": {
        "id": "-k8qu6aB64Gd"
      },
      "source": [
        "y_pred_prob_nb2 = mnb_model2.predict_proba(X2_test)[:,1]"
      ],
      "execution_count": 137,
      "outputs": []
    },
    {
      "cell_type": "code",
      "metadata": {
        "id": "9BLSUDzO68W2"
      },
      "source": [
        "fpr_nb2, tpr_nb2, thresholds_nb2 = roc_curve(y2_test, y_pred_prob_nb2)\n"
      ],
      "execution_count": 138,
      "outputs": []
    },
    {
      "cell_type": "markdown",
      "metadata": {
        "id": "5x6wDo7X5RQ1"
      },
      "source": [
        "KNN trigram"
      ]
    },
    {
      "cell_type": "code",
      "metadata": {
        "id": "idnclnNZ5TAF"
      },
      "source": [
        "knn_model = KNeighborsClassifier(n_neighbors=3, metric = 'minkowski')"
      ],
      "execution_count": 139,
      "outputs": []
    },
    {
      "cell_type": "code",
      "metadata": {
        "id": "rRzWwQs05VEu"
      },
      "source": [
        "knn_model.fit(X3_train,y3_train)\n",
        "y_pred_prob_KNN = knn_model.predict_proba(X3_test)[:,1]\n",
        "fpr_KNN, tpr_KNN, thresholds_KNN = roc_curve(y3_test, y_pred_prob_KNN)"
      ],
      "execution_count": 140,
      "outputs": []
    },
    {
      "cell_type": "markdown",
      "metadata": {
        "id": "nNIv-xlO5zhE"
      },
      "source": [
        "ROC"
      ]
    },
    {
      "cell_type": "code",
      "metadata": {
        "colab": {
          "base_uri": "https://localhost:8080/",
          "height": 332
        },
        "id": "eQ7W5M8F50mw",
        "outputId": "5b6a7840-aec1-4b61-9c0e-393246b32831"
      },
      "source": [
        "# Plot ROC curve\n",
        "plt.plot([0, 1], [0, 1], 'k--')\n",
        "\n",
        "plt.plot(fpr_nb1, tpr_nb1, label='MNB-unigram (area = %0.3f)' % roc_auc_nb)\n",
        "plt.plot(fpr_nb2, tpr_nb2, label='MNB-bigram (area = %0.3f)' % roc_auc_nb)\n",
        "plt.plot(fpr_KNN, tpr_KNN, label='KNN-trigram (area = %0.3f)' % roc_auc_KNN)\n",
        "\n",
        "\n",
        "plt.xlabel('False Positive Rate')\n",
        "plt.ylabel('True Positive Rate')\n",
        "plt.title('ROC curves from the models')\n",
        "plt.legend(loc='best')\n",
        "\n",
        "plt.show()\n"
      ],
      "execution_count": 152,
      "outputs": [
        {
          "output_type": "display_data",
          "data": {
            "image/png": "[encoded data removed]",
            "text/plain": [
              "<Figure size 432x288 with 1 Axes>"
            ]
          },
          "metadata": {}
        },
        {
          "output_type": "display_data",
          "data": {
            "text/plain": [
              "<Figure size 14400x7200 with 0 Axes>"
            ]
          },
          "metadata": {}
        }
      ]
    }
  ]
}